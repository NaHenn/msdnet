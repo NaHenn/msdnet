{
  "cells": [
    {
      "cell_type": "code",
      "execution_count": null,
      "metadata": {
        "collapsed": false
      },
      "outputs": [],
      "source": [
        "%matplotlib inline"
      ]
    },
    {
      "cell_type": "markdown",
      "metadata": {},
      "source": [
        "\nExample 04: Apply trained network for segmentation\n==================================================\n\nThis script applies a trained MS-D network for segmentation (i.e. labeling)\nRun generatedata.py first to generate required training data and train_segm.py to train\na network.\n"
      ]
    },
    {
      "cell_type": "code",
      "execution_count": null,
      "metadata": {
        "collapsed": false
      },
      "outputs": [],
      "source": [
        "# Import code\nimport msdnet\nimport glob\nimport tifffile\nimport os\nimport numpy as np\n\n# Make folder for output\nos.makedirs('results', exist_ok=True)\n\n# Load network from file\nn = msdnet.network.SegmentationMSDNet.from_file('segm_params.h5', gpu=True)\n\n# Process all test images\nflsin = sorted(glob.glob('test/noisy/*.tiff'))\nfor i in range(len(flsin)):\n    # Create datapoint with only input image\n    d = msdnet.data.ImageFileDataPoint(flsin[i])\n    # Compute network output\n    output = n.forward(d.input)\n    # Save labels with maximum probability to file (i.e. prediceted labels for each pixel)\n    tifffile.imsave('results/segm_label_{:05d}.tiff'.format(i), np.argmax(output,0).astype(np.uint8))\n    # Save probability map of a single channel (here, channel 2) to file\n    tifffile.imsave('results/segm_prob_lab2_{:05d}.tiff'.format(i), output[2])"
      ]
    }
  ],
  "metadata": {
    "kernelspec": {
      "display_name": "Python 3",
      "language": "python",
      "name": "python3"
    },
    "language_info": {
      "codemirror_mode": {
        "name": "ipython",
        "version": 3
      },
      "file_extension": ".py",
      "mimetype": "text/x-python",
      "name": "python",
      "nbconvert_exporter": "python",
      "pygments_lexer": "ipython3",
      "version": "3.7.3"
    }
  },
  "nbformat": 4,
  "nbformat_minor": 0
}