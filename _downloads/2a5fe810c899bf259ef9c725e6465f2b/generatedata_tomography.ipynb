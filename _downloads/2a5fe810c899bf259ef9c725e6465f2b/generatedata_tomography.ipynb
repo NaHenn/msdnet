{
  "cells": [
    {
      "cell_type": "code",
      "execution_count": null,
      "metadata": {
        "collapsed": false
      },
      "outputs": [],
      "source": [
        "%matplotlib inline"
      ]
    },
    {
      "cell_type": "markdown",
      "metadata": {},
      "source": [
        "\nSupplementary 02: Generate data for tomography examples\n=======================================================\n\n\nThis script generates tomographic reconstructions of phantom samples:\n1 sample for training, 1 for validation, and 1 for testing\n"
      ]
    },
    {
      "cell_type": "code",
      "execution_count": null,
      "metadata": {
        "collapsed": false
      },
      "outputs": [],
      "source": [
        "import numpy as np\nimport tifffile\nimport os\nimport astra\n\nn = 256\nnang = 256\nang = np.linspace(0, np.pi, nang, False)\nnp.random.seed(12345)\n\n# ASTRA objects\nproj_geom = astra.create_proj_geom('parallel', 1, int(np.sqrt(2)*n), ang)\nvol_geom = astra.create_vol_geom((n,n))\npid = astra.create_projector('strip', proj_geom, vol_geom)\nw = astra.OpTomo(pid)\n\nfor tpe in ['tomo_train', 'tomo_val', 'tomo_test']:\n    xfac = 0.75 + np.random.random()*1.25\n    yfac = 0.75 + np.random.random()*1.25\n    zfac = 0.75 + np.random.random()*1.25\n\n    xx,yy,zz = np.mgrid[-1.5*xfac:1.5*xfac:1j*n, -1.5*yfac:1.5*yfac:1j*n, -1.5*zfac:1.5*zfac:1j*n]\n    ph = np.zeros((n,n,n),dtype=np.float32)\n    ph_label = np.zeros((n,n,n),dtype=np.uint8)\n    msk = np.logical_and(np.abs(xx)<=1,np.logical_and(np.abs(zz)<=1,np.abs(yy)<=1))\n    ph[msk]=1\n    ph_label[msk]=1\n    msk = xx**2+yy**2+zz**2<=1\n    ph[msk]=0\n    ph_label[msk]=2\n    q = 1/np.sqrt(3)\n    msk = np.logical_and(np.abs(xx)<=q,np.logical_and(np.abs(zz)<=q,np.abs(yy)<=q))\n    ph[msk]=1\n    ph_label[msk]=3\n\n    os.makedirs(tpe, exist_ok=True)\n    os.makedirs(os.path.join(tpe,'lowqual'), exist_ok=True)\n    os.makedirs(os.path.join(tpe,'highqual'), exist_ok=True)\n    os.makedirs(os.path.join(tpe,'label'), exist_ok=True)\n\n    for j in range(n):\n        sinogram = w*ph[j]\n        sinogram_hq = sinogram + np.random.normal(size=sinogram.shape, scale=n/1000)\n        sinogram_lq = sinogram + np.random.normal(size=sinogram.shape, scale=n/10)\n        rec_hq = w.reconstruct('FBP', sinogram_hq)\n        rec_lq = w.reconstruct('FBP', sinogram_lq)\n        tifffile.imsave(os.path.join(os.path.join(tpe,'lowqual'),'{:05d}.tiff'.format(j)), rec_lq)\n        tifffile.imsave(os.path.join(os.path.join(tpe,'highqual'),'{:05d}.tiff'.format(j)), rec_hq)\n        tifffile.imsave(os.path.join(os.path.join(tpe,'label'),'{:05d}.tiff'.format(j)), ph_label[j])"
      ]
    }
  ],
  "metadata": {
    "kernelspec": {
      "display_name": "Python 3",
      "language": "python",
      "name": "python3"
    },
    "language_info": {
      "codemirror_mode": {
        "name": "ipython",
        "version": 3
      },
      "file_extension": ".py",
      "mimetype": "text/x-python",
      "name": "python",
      "nbconvert_exporter": "python",
      "pygments_lexer": "ipython3",
      "version": "3.7.3"
    }
  },
  "nbformat": 4,
  "nbformat_minor": 0
}