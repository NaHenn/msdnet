{
  "cells": [
    {
      "cell_type": "code",
      "execution_count": null,
      "metadata": {
        "collapsed": false
      },
      "outputs": [],
      "source": [
        "%matplotlib inline"
      ]
    },
    {
      "cell_type": "markdown",
      "metadata": {},
      "source": [
        "\nSupplementary 01: Generate data for examples\n============================================\n\nThis script generates 100 training images, 25 validation images, and\n10 testing images to train MS-D networks with.\n\n"
      ]
    },
    {
      "cell_type": "code",
      "execution_count": null,
      "metadata": {
        "collapsed": false
      },
      "outputs": [],
      "source": [
        "import numpy as np\nimport tifffile\nimport os\n\nn = 256\nnit = 24\n\nnp.random.seed(12345)\n\nsz = n//8\n\ndef generate():\n    im = np.zeros((n,n),dtype=np.float32)\n    l = np.zeros((n,n),dtype=np.uint8)\n\n    tmpl = np.zeros((4,sz,sz),dtype=np.float32)\n    tmpl[0] = 1\n    tmpl[1] = 1\n    tmpl[1][sz//4:-sz//4,sz//4:-sz//4]=0\n    xx,yy = np.mgrid[-1:1:1j*sz,-1:1:1j*sz]\n    tmpl[2] = xx**2+yy**2<1\n    tmpl[3] = xx**2+yy**2<1\n    tmpl[3][xx**2+yy**2<0.25]=0\n\n    i = 0\n    tp = 0\n    while i<nit:\n        found=False\n        while found==False:\n            x, y = (np.random.random(2)*(n-sz)).astype(np.int)\n            if l[x:x+sz,y:y+sz].max()==0:\n                found=True\n        vl = np.random.random()*0.8+0.2\n        im[x:x+sz,y:y+sz] = tmpl[tp]*vl\n        l[x:x+sz,y:y+sz] = tmpl[2*(tp//2)]*(tp+1)\n        tp+=1\n        if tp==4:\n            tp=0\n        i+=1\n\n    imn = im+np.random.normal(size=im.shape)\n    return imn, im, l\n\nos.makedirs('train',exist_ok=True)\nos.makedirs('train/noisy',exist_ok=True)\nos.makedirs('train/noiseless',exist_ok=True)\nos.makedirs('train/label',exist_ok=True)\nfor i in range(100):\n    imn, im, l = generate()\n    tifffile.imsave('train/noisy/{:05d}.tiff'.format(i), imn.astype(np.float32))\n    tifffile.imsave('train/noiseless/{:05d}.tiff'.format(i), im.astype(np.float32))\n    tifffile.imsave('train/label/{:05d}.tiff'.format(i), l.astype(np.uint8))\n    \nos.makedirs('val',exist_ok=True)\nos.makedirs('val/noisy',exist_ok=True)\nos.makedirs('val/noiseless',exist_ok=True)\nos.makedirs('val/label',exist_ok=True)\nfor i in range(25):\n    imn, im, l = generate()\n    tifffile.imsave('val/noisy/{:05d}.tiff'.format(i), imn.astype(np.float32))\n    tifffile.imsave('val/noiseless/{:05d}.tiff'.format(i), im.astype(np.float32))\n    tifffile.imsave('val/label/{:05d}.tiff'.format(i), l.astype(np.uint8))\n    \nos.makedirs('test',exist_ok=True)\nos.makedirs('test/noisy',exist_ok=True)\nos.makedirs('test/noiseless',exist_ok=True)\nos.makedirs('test/label',exist_ok=True)\nfor i in range(10):\n    imn, im, l = generate()\n    tifffile.imsave('test/noisy/{:05d}.tiff'.format(i), imn.astype(np.float32))\n    tifffile.imsave('test/noiseless/{:05d}.tiff'.format(i), im.astype(np.float32))\n    tifffile.imsave('test/label/{:05d}.tiff'.format(i), l.astype(np.uint8))"
      ]
    }
  ],
  "metadata": {
    "kernelspec": {
      "display_name": "Python 3",
      "language": "python",
      "name": "python3"
    },
    "language_info": {
      "codemirror_mode": {
        "name": "ipython",
        "version": 3
      },
      "file_extension": ".py",
      "mimetype": "text/x-python",
      "name": "python",
      "nbconvert_exporter": "python",
      "pygments_lexer": "ipython3",
      "version": "3.6.8"
    }
  },
  "nbformat": 4,
  "nbformat_minor": 0
}