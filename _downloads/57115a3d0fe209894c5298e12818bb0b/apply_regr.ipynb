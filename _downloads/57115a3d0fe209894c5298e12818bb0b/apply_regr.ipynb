{
  "cells": [
    {
      "cell_type": "code",
      "execution_count": null,
      "metadata": {
        "collapsed": false
      },
      "outputs": [],
      "source": [
        "%matplotlib inline"
      ]
    },
    {
      "cell_type": "markdown",
      "metadata": {},
      "source": [
        "\nExample 02: Apply trained network for regression\n================================================\n\nThis script applies a trained MS-D network for regression (i.e. denoising/artifact removal)\nRun generatedata.py first to generate required training data and train_regr.py to train\na network.\n\n"
      ]
    },
    {
      "cell_type": "code",
      "execution_count": null,
      "metadata": {
        "collapsed": false
      },
      "outputs": [],
      "source": [
        "# Import code\nimport msdnet\nimport glob\nimport tifffile\nimport os\n\n# Make folder for output\nos.makedirs('results', exist_ok=True)\n\n# Load network from file\nn = msdnet.network.MSDNet.from_file('regr_params.h5', gpu=True)\n\n# Process all test images\nflsin = sorted(glob.glob('test/noisy/*.tiff'))\nfor i in range(len(flsin)):\n    # Create datapoint with only input image\n    d = msdnet.data.ImageFileDataPoint(flsin[i])\n    # Compute network output\n    output = n.forward(d.input)\n    # Save network output to file\n    tifffile.imsave('results/regr_{:05d}.tiff'.format(i), output[0])"
      ]
    }
  ],
  "metadata": {
    "kernelspec": {
      "display_name": "Python 3",
      "language": "python",
      "name": "python3"
    },
    "language_info": {
      "codemirror_mode": {
        "name": "ipython",
        "version": 3
      },
      "file_extension": ".py",
      "mimetype": "text/x-python",
      "name": "python",
      "nbconvert_exporter": "python",
      "pygments_lexer": "ipython3",
      "version": "3.6.8"
    }
  },
  "nbformat": 4,
  "nbformat_minor": 0
}