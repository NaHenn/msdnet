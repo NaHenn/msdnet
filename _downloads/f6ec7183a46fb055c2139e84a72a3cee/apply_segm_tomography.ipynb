{
  "cells": [
    {
      "cell_type": "code",
      "execution_count": null,
      "metadata": {
        "collapsed": false
      },
      "outputs": [],
      "source": [
        "%matplotlib inline"
      ]
    },
    {
      "cell_type": "markdown",
      "metadata": {},
      "source": [
        "\nExample 08: Apply trained network for segmentation (tomography)\n===============================================================\n\nThis script applies a trained MS-D network for segmentation (i.e. labeling)\nRun generatedata_tomography.py first to generate required training data and train_segm_tomography.py to train\na network.\n\n"
      ]
    },
    {
      "cell_type": "code",
      "execution_count": null,
      "metadata": {
        "collapsed": false
      },
      "outputs": [],
      "source": [
        "# Import code\nimport msdnet\nimport glob\nimport tifffile\nimport os\nimport numpy as np\n\n# Make folder for output\nos.makedirs('tomo_results', exist_ok=True)\n\n# Load network from file\nn = msdnet.network.SegmentationMSDNet.from_file('tomo_segm_params.h5', gpu=True)\n\n# Process all test images\nflsin = sorted(glob.glob('tomo_test/lowqual/*.tiff'))\ndats = [msdnet.data.ImageFileDataPoint(f) for f in flsin]\n# Convert input slices to input slabs (i.e. multiple slices as input)\ndats = msdnet.data.convert_to_slabs(dats, 2, flip=False)\nfor i in range(len(flsin)):\n    # Compute network output\n    output = n.forward(dats[i].input)\n    # Save labels with maximum probability to file (i.e. prediceted labels for each pixel)\n    tifffile.imsave('tomo_results/segm_label_{:05d}.tiff'.format(i), np.argmax(output,0).astype(np.uint8))\n    # Save probability map of a single channel (here, channel 2) to file\n    tifffile.imsave('tomo_results/segm_prob_lab2_{:05d}.tiff'.format(i), output[2])"
      ]
    }
  ],
  "metadata": {
    "kernelspec": {
      "display_name": "Python 3",
      "language": "python",
      "name": "python3"
    },
    "language_info": {
      "codemirror_mode": {
        "name": "ipython",
        "version": 3
      },
      "file_extension": ".py",
      "mimetype": "text/x-python",
      "name": "python",
      "nbconvert_exporter": "python",
      "pygments_lexer": "ipython3",
      "version": "3.6.8"
    }
  },
  "nbformat": 4,
  "nbformat_minor": 0
}